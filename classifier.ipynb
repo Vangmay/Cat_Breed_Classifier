{
 "metadata": {
  "language_info": {
   "codemirror_mode": {
    "name": "ipython",
    "version": 3
   },
   "file_extension": ".py",
   "mimetype": "text/x-python",
   "name": "python",
   "nbconvert_exporter": "python",
   "pygments_lexer": "ipython3",
   "version": "3.8.8"
  },
  "orig_nbformat": 4,
  "kernelspec": {
   "name": "python3",
   "display_name": "Python 3.8.8 64-bit ('base': conda)"
  },
  "interpreter": {
   "hash": "07efdcd4b820c98a756949507a4d29d7862823915ec7477944641bea022f4f62"
  }
 },
 "nbformat": 4,
 "nbformat_minor": 2,
 "cells": [
  {
   "cell_type": "code",
   "execution_count": 1,
   "metadata": {},
   "outputs": [
    {
     "output_type": "stream",
     "name": "stdout",
     "text": [
      "Collecting jsonify\n  Downloading jsonify-0.5.tar.gz (1.0 kB)\nBuilding wheels for collected packages: jsonify\n  Building wheel for jsonify (setup.py): started\n  Building wheel for jsonify (setup.py): finished with status 'done'\n  Created wheel for jsonify: filename=jsonify-0.5-py3-none-any.whl size=1561 sha256=f83d8b290ff8996caa718465fd4724247463948167a7fed215343df0389d994b\n  Stored in directory: c:\\users\\vince\\appdata\\local\\pip\\cache\\wheels\\ee\\c6\\ef\\643adfbd90fefe0640cb6ba3b20995a2f50ccc2c57f55b190f\nSuccessfully built jsonify\nInstalling collected packages: jsonify\nSuccessfully installed jsonify-0.5\n"
     ]
    }
   ],
   "source": [
    "!pip install jsonify"
   ]
  },
  {
   "cell_type": "code",
   "execution_count": 2,
   "metadata": {},
   "outputs": [
    {
     "output_type": "stream",
     "name": "stdout",
     "text": [
      "Requirement already satisfied: requests in d:\\anaconda\\lib\\site-packages (2.25.1)\nRequirement already satisfied: chardet<5,>=3.0.2 in d:\\anaconda\\lib\\site-packages (from requests) (4.0.0)\nRequirement already satisfied: certifi>=2017.4.17 in d:\\anaconda\\lib\\site-packages (from requests) (2020.12.5)\nRequirement already satisfied: urllib3<1.27,>=1.21.1 in d:\\anaconda\\lib\\site-packages (from requests) (1.26.4)\nRequirement already satisfied: idna<3,>=2.5 in d:\\anaconda\\lib\\site-packages (from requests) (2.10)\n"
     ]
    }
   ],
   "source": [
    "!pip install requests"
   ]
  },
  {
   "cell_type": "code",
   "execution_count": null,
   "metadata": {},
   "outputs": [],
   "source": []
  }
 ]
}